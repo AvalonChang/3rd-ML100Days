{
 "cells": [
  {
   "cell_type": "markdown",
   "metadata": {},
   "source": [
    "# [作業目標]\n",
    "- 對資料做更多處理 : 顯示特定欄位的統計值與直方圖"
   ]
  },
  {
   "cell_type": "markdown",
   "metadata": {},
   "source": [
    "# [作業重點]\n",
    "- 試著顯示特定欄位的基礎統計數值 (In[4], Out[4], Hint : describe())\n",
    "- 試著顯示特定欄位的直方圖 (In[5], Out[5], Hint : .hist())"
   ]
  },
  {
   "cell_type": "code",
   "execution_count": 66,
   "metadata": {},
   "outputs": [],
   "source": [
    "# Import 需要的套件\n",
    "import os\n",
    "import numpy as np\n",
    "import pandas as pd\n",
    "\n",
    "# 設定 data_path\n",
    "dir_data = './data/'"
   ]
  },
  {
   "cell_type": "code",
   "execution_count": 67,
   "metadata": {},
   "outputs": [],
   "source": [
    "f_app_train = os.path.join(dir_data, 'application_train.csv')\n",
    "app_train = pd.read_csv(f_app_train)"
   ]
  },
  {
   "cell_type": "code",
   "execution_count": 68,
   "metadata": {},
   "outputs": [],
   "source": [
    "import matplotlib.pyplot as plt\n",
    "%matplotlib inline"
   ]
  },
  {
   "cell_type": "markdown",
   "metadata": {},
   "source": [
    "## 練習時間"
   ]
  },
  {
   "cell_type": "markdown",
   "metadata": {},
   "source": [
    "觀察有興趣的欄位的資料分佈，並嘗試找出有趣的訊息\n",
    "#### Eg\n",
    "- 計算任意欄位的平均數及標準差\n",
    "- 畫出任意欄位的[直方圖](https://zh.wikipedia.org/zh-tw/%E7%9B%B4%E6%96%B9%E5%9B%BE)\n",
    "\n",
    "### Hints:\n",
    "- [Descriptive Statistics For pandas Dataframe](https://chrisalbon.com/python/data_wrangling/pandas_dataframe_descriptive_stats/)\n",
    "- [pandas 中的繪圖函數](https://amaozhao.gitbooks.io/pandas-notebook/content/pandas%E4%B8%AD%E7%9A%84%E7%BB%98%E5%9B%BE%E5%87%BD%E6%95%B0.html)\n"
   ]
  },
  {
   "cell_type": "code",
   "execution_count": 118,
   "metadata": {},
   "outputs": [
    {
     "name": "stdout",
     "output_type": "stream",
     "text": [
      "AMT_INCOME_TOTAL\n",
      "std :237123.14627883647, mean :168797.9192969845\n",
      "AMT_CREDIT\n",
      "std :402490.776995946, mean :599025.9997057016\n",
      "AMT_ANNUITY\n",
      "std :14493.737315117392, mean :27108.573909183444\n",
      "AMT_GOODS_PRICE\n",
      "std :369446.4605400129, mean :538396.2074288895\n",
      "REGION_POPULATION_RELATIVE\n",
      "std :0.013831280122699869, mean :0.02086811205778947\n",
      "DAYS_REGISTRATION\n",
      "std :3522.88632096305, mean :-4986.120327538419\n",
      "OWN_CAR_AGE\n",
      "std :11.944811582242346, mean :12.061090818687727\n",
      "CNT_FAM_MEMBERS\n",
      "std :0.9106815691773334, mean :2.152665450442101\n",
      "EXT_SOURCE_1\n",
      "std :0.21106224927392553, mean :0.5021298056566621\n",
      "EXT_SOURCE_2\n",
      "std :0.1910601549849387, mean :0.5143926741308463\n",
      "EXT_SOURCE_3\n",
      "std :0.19484436446376072, mean :0.5108529061800121\n",
      "APARTMENTS_AVG\n",
      "std :0.10824029130030667, mean :0.11744049917466033\n",
      "BASEMENTAREA_AVG\n",
      "std :0.08243815873569478, mean :0.08844221905180052\n",
      "YEARS_BEGINEXPLUATATION_AVG\n",
      "std :0.05922331435835884, mean :0.9777348581622732\n",
      "YEARS_BUILD_AVG\n",
      "std :0.11327992663225028, mean :0.752471432592686\n",
      "COMMONAREA_AVG\n",
      "std :0.0760357450504098, mean :0.04462071541135205\n",
      "ELEVATORS_AVG\n",
      "std :0.13457600110026235, mean :0.07894151232418305\n",
      "ENTRANCES_AVG\n",
      "std :0.1000491207603038, mean :0.1497246700681123\n",
      "FLOORSMAX_AVG\n",
      "std :0.14464069954794426, mean :0.2262819070368362\n",
      "FLOORSMIN_AVG\n",
      "std :0.161380288800189, mean :0.23189350049050692\n",
      "LANDAREA_AVG\n",
      "std :0.0811836407017809, mean :0.06633318417239835\n",
      "LIVINGAPARTMENTS_AVG\n",
      "std :0.09257613396049696, mean :0.10077477495068154\n",
      "LIVINGAREA_AVG\n",
      "std :0.11056452318371773, mean :0.10739901933259607\n",
      "NONLIVINGAPARTMENTS_AVG\n",
      "std :0.047731662050336146, mean :0.008808672617213057\n",
      "NONLIVINGAREA_AVG\n",
      "std :0.06952318332120722, mean :0.02835775707579772\n",
      "APARTMENTS_MODE\n",
      "std :0.10793603908753796, mean :0.11423100693296864\n",
      "BASEMENTAREA_MODE\n",
      "std :0.08430717486923314, mean :0.08754321224758604\n",
      "YEARS_BEGINEXPLUATATION_MODE\n",
      "std :0.06457543708049779, mean :0.9770653729428284\n",
      "YEARS_BUILD_MODE\n",
      "std :0.11011102734194693, mean :0.759637322733821\n",
      "COMMONAREA_MODE\n",
      "std :0.07444452253838403, mean :0.042553137750146755\n",
      "ELEVATORS_MODE\n",
      "std :0.1322561441504732, mean :0.07448973610915821\n",
      "ENTRANCES_MODE\n",
      "std :0.1009769881602024, mean :0.14519265864574382\n",
      "FLOORSMAX_MODE\n",
      "std :0.1437094065953209, mean :0.22231504747867964\n",
      "FLOORSMIN_MODE\n",
      "std :0.16115977149541197, mean :0.22805849255070593\n",
      "LANDAREA_MODE\n",
      "std :0.08175027780844098, mean :0.06495768445657842\n",
      "LIVINGAPARTMENTS_MODE\n",
      "std :0.09788044657878618, mean :0.1056448567494209\n",
      "LIVINGAREA_MODE\n",
      "std :0.11184526587783401, mean :0.1059750504371198\n",
      "NONLIVINGAPARTMENTS_MODE\n",
      "std :0.04627626621983214, mean :0.008076387544283468\n",
      "NONLIVINGAREA_MODE\n",
      "std :0.07025385904395566, mean :0.02702231968598884\n",
      "APARTMENTS_MEDI\n",
      "std :0.10907590600115753, mean :0.11784992076592354\n",
      "BASEMENTAREA_MEDI\n",
      "std :0.0821787495146414, mean :0.08795485466574764\n",
      "(307511, 3)\n"
     ]
    },
    {
     "data": {
      "text/plain": [
       "<matplotlib.axes._subplots.AxesSubplot at 0x23201b50860>"
      ]
     },
     "execution_count": 118,
     "metadata": {},
     "output_type": "execute_result"
    },
    {
     "data": {
      "image/png": "[encoded data removed]",
      "text/plain": [
       "<Figure size 432x288 with 1 Axes>"
      ]
     },
     "metadata": {
      "needs_background": "light"
     },
     "output_type": "display_data"
    }
   ],
   "source": [
    "# 挑選出Type為 int, float的feature\n",
    "\n",
    "dType_df = app_train.dtypes.reset_index()\n",
    "dType_df.columns = ['Count', 'Column Type']\n",
    "\n",
    "IntFeatureList = []\n",
    "FloatFeatureList = []\n",
    "\n",
    "for Feature, dType in zip(dType_df['Count'], dType_df['Column Type']):\n",
    "    if dType == 'int64':\n",
    "        #print('11111')\n",
    "        IntFeatureList.append(Feature)\n",
    "    elif dType == 'float64':\n",
    "        FloatFeatureList.append(Feature)\n",
    "\n",
    "# \n",
    "for IntFeature, FloatFeature in zip(IntFeatureList, FloatFeatureList):\n",
    "    #print(f'{IntFeature}\\nstd :{app_train[IntFeature].std()}, mean :{app_train[IntFeature].mean()}')\n",
    "    print(f'{FloatFeature}\\nstd :{app_train[FloatFeature].std()}, mean :{app_train[FloatFeature].mean()}')\n",
    "\n",
    "\n",
    "# 將要Plot出來的Feature合併至一個DataFrame\n",
    "Plot_df = pd.DataFrame()\n",
    "for i in range(3):\n",
    "    Plot_df = pd.concat([Plot_df, app_train[FloatFeatureList[i]]], axis=1)\n",
    "    #print(Plot_df.head())\n",
    "\n",
    "print(Plot_df.shape)\n",
    "Plot_df.plot()"
   ]
  },
  {
   "cell_type": "code",
   "execution_count": 119,
   "metadata": {},
   "outputs": [
    {
     "name": "stdout",
     "output_type": "stream",
     "text": [
      "12840\n"
     ]
    },
    {
     "data": {
      "text/plain": [
       "SK_ID_CURR                                           114967\n",
       "TARGET                                                    1\n",
       "NAME_CONTRACT_TYPE                               Cash loans\n",
       "CODE_GENDER                                               F\n",
       "FLAG_OWN_CAR                                              N\n",
       "FLAG_OWN_REALTY                                           Y\n",
       "CNT_CHILDREN                                              1\n",
       "AMT_INCOME_TOTAL                                   1.17e+08\n",
       "AMT_CREDIT                                           562491\n",
       "AMT_ANNUITY                                         26194.5\n",
       "AMT_GOODS_PRICE                                      454500\n",
       "NAME_TYPE_SUITE                               Unaccompanied\n",
       "NAME_INCOME_TYPE                                    Working\n",
       "NAME_EDUCATION_TYPE           Secondary / secondary special\n",
       "NAME_FAMILY_STATUS                                  Married\n",
       "NAME_HOUSING_TYPE                         House / apartment\n",
       "REGION_POPULATION_RELATIVE                         0.010643\n",
       "DAYS_BIRTH                                           -12615\n",
       "DAYS_EMPLOYED                                          -922\n",
       "DAYS_REGISTRATION                                     -6762\n",
       "DAYS_ID_PUBLISH                                       -3643\n",
       "OWN_CAR_AGE                                             NaN\n",
       "FLAG_MOBIL                                                1\n",
       "FLAG_EMP_PHONE                                            1\n",
       "FLAG_WORK_PHONE                                           0\n",
       "FLAG_CONT_MOBILE                                          1\n",
       "FLAG_PHONE                                                0\n",
       "FLAG_EMAIL                                                0\n",
       "OCCUPATION_TYPE                                    Laborers\n",
       "CNT_FAM_MEMBERS                                           3\n",
       "                                          ...              \n",
       "DEF_30_CNT_SOCIAL_CIRCLE                                  0\n",
       "OBS_60_CNT_SOCIAL_CIRCLE                                  0\n",
       "DEF_60_CNT_SOCIAL_CIRCLE                                  0\n",
       "DAYS_LAST_PHONE_CHANGE                                    0\n",
       "FLAG_DOCUMENT_2                                           0\n",
       "FLAG_DOCUMENT_3                                           1\n",
       "FLAG_DOCUMENT_4                                           0\n",
       "FLAG_DOCUMENT_5                                           0\n",
       "FLAG_DOCUMENT_6                                           0\n",
       "FLAG_DOCUMENT_7                                           0\n",
       "FLAG_DOCUMENT_8                                           0\n",
       "FLAG_DOCUMENT_9                                           0\n",
       "FLAG_DOCUMENT_10                                          0\n",
       "FLAG_DOCUMENT_11                                          0\n",
       "FLAG_DOCUMENT_12                                          0\n",
       "FLAG_DOCUMENT_13                                          0\n",
       "FLAG_DOCUMENT_14                                          0\n",
       "FLAG_DOCUMENT_15                                          0\n",
       "FLAG_DOCUMENT_16                                          0\n",
       "FLAG_DOCUMENT_17                                          0\n",
       "FLAG_DOCUMENT_18                                          0\n",
       "FLAG_DOCUMENT_19                                          0\n",
       "FLAG_DOCUMENT_20                                          0\n",
       "FLAG_DOCUMENT_21                                          0\n",
       "AMT_REQ_CREDIT_BUREAU_HOUR                                0\n",
       "AMT_REQ_CREDIT_BUREAU_DAY                                 0\n",
       "AMT_REQ_CREDIT_BUREAU_WEEK                                0\n",
       "AMT_REQ_CREDIT_BUREAU_MON                                 0\n",
       "AMT_REQ_CREDIT_BUREAU_QRT                                 0\n",
       "AMT_REQ_CREDIT_BUREAU_YEAR                                1\n",
       "Name: 12840, Length: 122, dtype: object"
      ]
     },
     "execution_count": 119,
     "metadata": {},
     "output_type": "execute_result"
    }
   ],
   "source": [
    "INCOME_TOTALArray = pd.Series(Plot_df['AMT_INCOME_TOTAL'])\n",
    "max_Index = INCOME_TOTALArray.idxmax()\n",
    "print(max_Index)\n",
    "dType_df = app_train.loc[max_Index]\n",
    "dType_df"
   ]
  },
  {
   "cell_type": "code",
   "execution_count": null,
   "metadata": {},
   "outputs": [],
   "source": []
  }
 ],
 "metadata": {
  "kernelspec": {
   "display_name": "Python 3",
   "language": "python",
   "name": "python3"
  },
  "language_info": {
   "codemirror_mode": {
    "name": "ipython",
    "version": 3
   },
   "file_extension": ".py",
   "mimetype": "text/x-python",
   "name": "python",
   "nbconvert_exporter": "python",
   "pygments_lexer": "ipython3",
   "version": "3.7.3"
  }
 },
 "nbformat": 4,
 "nbformat_minor": 2
}
