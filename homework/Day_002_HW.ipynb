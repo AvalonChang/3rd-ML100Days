{
 "cells": [
  {
   "cell_type": "markdown",
   "metadata": {},
   "source": [
    "## [作業目標]\n",
    "了解機器學習適合應用的領域與範疇。"
   ]
  },
  {
   "cell_type": "markdown",
   "metadata": {},
   "source": [
    "## [作業重點]\n",
    "透過瞭解機器學習的運作方式，找出非常適用機器學習應用的領域及其原因"
   ]
  },
  {
   "cell_type": "markdown",
   "metadata": {},
   "source": [
    "## 作業\n",
    "請找出一個你認為機器學習可以發光發熱的領域並闡述原因? "
   ]
  },
  {
   "cell_type": "markdown",
   "metadata": {},
   "source": [
    "我認為Machine Learning在Computer Vision領域能獲得很好的應用\n",
    "\n",
    "除了目前常見的圖像分類以外, 還可搭配不同Sensor以及傳統影像處理演算獲得的特徵進行不同應用或是提升準確率\n",
    "\n",
    "例如搭配IR Camera和3D Sensor(eg:Structured Light, ToF...)取得的影像深度資訊可以作為新的Information結合現有的影像分類以提高準確率\n",
    "實際應用如人臉辨識, 除了輸入人臉影像外再以深度得到人臉輪廓, 在提高準確率之餘也能確保機器能分辨出照片或真人\n",
    "\n",
    "而傳統影像演算法則是能和ML進行互補, ML在分類的能力較強但無法進行精確的量測\n",
    "\n",
    "例如想使用機器手臂將一個歪斜的物品擺正, 除了辨識出物品在影像上位置以外, 勢必還要計算出物體偏斜的角度\n",
    "但精確的度量對目前ML來說較為困難\n",
    "而傳統影像處理可以較容易的對影像內的物品進行度量, 但要在環境雜亂的影像內準確識別特定物品則較為困難\n",
    "\n",
    "若能以ML的方式識別物品, 得到物品的大致位置, 再以影像處理演算針對ROI區域計算可大幅減少環境造成的干擾\n",
    "且影像處理可精確計算物品長度或角度之類需要度量的資訊, 兩者互補結合達到在複雜環境下的應用"
   ]
  }
 ],
 "metadata": {
  "kernelspec": {
   "display_name": "Python 3",
   "language": "python",
   "name": "python3"
  },
  "language_info": {
   "codemirror_mode": {
    "name": "ipython",
    "version": 3
   },
   "file_extension": ".py",
   "mimetype": "text/x-python",
   "name": "python",
   "nbconvert_exporter": "python",
   "pygments_lexer": "ipython3",
   "version": "3.7.3"
  }
 },
 "nbformat": 4,
 "nbformat_minor": 2
}
